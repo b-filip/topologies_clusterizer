{
 "cells": [
  {
   "cell_type": "code",
   "execution_count": 1,
   "metadata": {
    "collapsed": true
   },
   "outputs": [],
   "source": [
    "import pandas as pd\n",
    "import numpy as np\n",
    "from path import Path  # pip install --user path.py\n",
    "import re\n",
    "from IPython.display import display\n",
    "from pprint import pprint\n",
    "import netCDF4\n",
    "from IPython.core.debugger import Pdb\n",
    "from collections import namedtuple"
   ]
  },
  {
   "cell_type": "code",
   "execution_count": 2,
   "metadata": {
    "collapsed": true
   },
   "outputs": [],
   "source": [
    "# load seaborn and other stuff for visualization\n",
    "import seaborn  # pip install --user seaborn\n",
    "from matplotlib import pyplot as plt\n",
    "%matplotlib inline"
   ]
  },
  {
   "cell_type": "code",
   "execution_count": 3,
   "metadata": {
    "collapsed": true
   },
   "outputs": [],
   "source": [
    "def debug_here():\n",
    "    Pdb().set_trace()"
   ]
  },
  {
   "cell_type": "code",
   "execution_count": 4,
   "metadata": {
    "collapsed": true
   },
   "outputs": [],
   "source": [
    "classes = pd.read_pickle(\"classes.pkl\")\n",
    "node_pairs = pd.read_pickle(\"paths_with_classes.pkl\").drop(\"shortest_path\", axis=1)"
   ]
  },
  {
   "cell_type": "code",
   "execution_count": 5,
   "metadata": {
    "collapsed": true
   },
   "outputs": [],
   "source": [
    "TEST_RESULT_DIRECTORIES = Path(\"/home/shibbiry/Dropbox/documents/msu/bachelors_thesis_cluster_topology/test_results\") \\\n",
    "    .dirs()"
   ]
  },
  {
   "cell_type": "code",
   "execution_count": 6,
   "metadata": {
    "collapsed": true
   },
   "outputs": [],
   "source": [
    "def read_benchmark_hostnames(path_to_file):\n",
    "    lines = path_to_file.lines()\n",
    "    return (re.match(r\"^(n\\d{5})\\.\", line).groups()[0] for line in lines)"
   ]
  },
  {
   "cell_type": "code",
   "execution_count": 7,
   "metadata": {
    "collapsed": true
   },
   "outputs": [],
   "source": [
    "TestResults = namedtuple(\"TestResults\", [\"hostnames\", \"medians\", \"msg_lengths\"])"
   ]
  },
  {
   "cell_type": "code",
   "execution_count": 8,
   "metadata": {
    "collapsed": true
   },
   "outputs": [],
   "source": [
    "def import_data(directory):\n",
    "    hostnames = tuple(read_benchmark_hostnames(directory.joinpath(\"network_hosts.txt\")))\n",
    "    with netCDF4.Dataset(directory.joinpath(\"network_median.nc\"), \"r\")  as dataset:\n",
    "        step_len = dataset[\"step_length\"][0]\n",
    "        start_len = dataset[\"begin_mes_length\"][0]\n",
    "        end_len = dataset[\"end_mes_length\"][0]\n",
    "        \n",
    "        assert len(hostnames) == dataset[\"proc_num\"][0]\n",
    "        assert dataset[\"test_type\"][0] == 1\n",
    "        assert start_len == 0\n",
    "        assert end_len == 10000  # last message length should be 9900\n",
    "        assert step_len == 100\n",
    "        steps = (end_len - start_len) // step_len - 1\n",
    "        assert start_len + (steps + 1) * step_len == end_len\n",
    "        \n",
    "        lengths = range(start_len, end_len, step_len)\n",
    "        \n",
    "        data = {\n",
    "            \"message_len_{0}\".format(length): \\\n",
    "                pd.DataFrame(dataset[\"data\"][index], index=hostnames, columns=hostnames)\n",
    "            for (index, length) in enumerate(lengths)\n",
    "        }\n",
    "        panel = pd.Panel(data)\n",
    "    return TestResults(hostnames=hostnames, medians=panel, msg_lengths=list(lengths))"
   ]
  },
  {
   "cell_type": "code",
   "execution_count": 9,
   "metadata": {},
   "outputs": [],
   "source": [
    "test_results = import_data(TEST_RESULT_DIRECTORIES[0])"
   ]
  },
  {
   "cell_type": "markdown",
   "metadata": {},
   "source": [
    "## Make sure that all classes were covered by our test"
   ]
  },
  {
   "cell_type": "code",
   "execution_count": 10,
   "metadata": {
    "collapsed": true
   },
   "outputs": [],
   "source": [
    "def check_all_classes_covered(hostnames):\n",
    "    \"\"\"Fails an assertion if there is a class of pairs\n",
    "    that was not covered by the test\"\"\"\n",
    "    pairs_tested = node_pairs[\n",
    "        node_pairs[\"node1\"].isin(hostnames) &\n",
    "        node_pairs[\"node2\"].isin(hostnames)\n",
    "    ]\n",
    "    assert len(pairs_tested[\"class_\"].unique()) == len(classes)"
   ]
  },
  {
   "cell_type": "code",
   "execution_count": 11,
   "metadata": {
    "collapsed": true
   },
   "outputs": [],
   "source": [
    "check_all_classes_covered(test_results.hostnames)"
   ]
  },
  {
   "cell_type": "markdown",
   "metadata": {},
   "source": [
    "## More helper functions"
   ]
  },
  {
   "cell_type": "code",
   "execution_count": 12,
   "metadata": {
    "collapsed": true
   },
   "outputs": [],
   "source": [
    "class ClassGetter():\n",
    "    def __init__(self, node_pairs):\n",
    "        self.reverse_lookup_table = node_pairs.set_index([\"node1\", \"node2\"])\n",
    "    \n",
    "    def __call__(self, node1, node2):\n",
    "        min_node = min(node1, node2)\n",
    "        max_node = max(node1, node2)\n",
    "        return self.reverse_lookup_table.loc[min_node].loc[max_node].loc[\"class_\"]       "
   ]
  },
  {
   "cell_type": "code",
   "execution_count": 13,
   "metadata": {
    "collapsed": true
   },
   "outputs": [],
   "source": [
    "get_class = ClassGetter(node_pairs)"
   ]
  },
  {
   "cell_type": "code",
   "execution_count": 14,
   "metadata": {
    "collapsed": true
   },
   "outputs": [],
   "source": [
    "def get_values_from_class(matrix, class_):\n",
    "    \"\"\"returns an iterable with values from pairs\n",
    "    that belong to a specific class\"\"\"\n",
    "    hostnames = list(matrix.index)\n",
    "    assert (matrix.columns == matrix.index).all()\n",
    "    \n",
    "    return (\n",
    "        matrix.loc[node1].loc[node2] for node1 in hostnames\n",
    "        for node2 in matrix.columns  \n",
    "        if node1 != node2 and get_class(node1, node2) == class_  # dirty hack\n",
    "    )"
   ]
  },
  {
   "cell_type": "code",
   "execution_count": 15,
   "metadata": {
    "collapsed": true
   },
   "outputs": [],
   "source": [
    "def uniques_in_matrix(matrix):\n",
    "    return frozenset(matrix[col].loc[row] for col in matrix.columns for row in matrix.index)"
   ]
  },
  {
   "cell_type": "markdown",
   "metadata": {},
   "source": [
    "## Test uniques_in_matrix"
   ]
  },
  {
   "cell_type": "code",
   "execution_count": 22,
   "metadata": {},
   "outputs": [],
   "source": [
    "def test_uniques_in_matrix():\n",
    "    uniques1 = uniques_in_matrix(\n",
    "        pd.DataFrame([[1, 2, 3], [4, 5, 6], [7, 8, 9]], columns=[\"c1\", \"c2\", \"c3\"], index=[\"i1\", \"i2\", \"i3\"])\n",
    "    )\n",
    "    assert frozenset({1, 2, 3, 4, 5, 6, 7, 8, 9}) == uniques1\n",
    "    \n",
    "    uniques2 = uniques_in_matrix(\n",
    "        pd.DataFrame([[1, 2, 3], [4, 5, 6], [7, 8, 9]], columns=[\"i1\", \"i2\", \"i3\"], index=[\"i1\", \"i2\", \"i3\"])\n",
    "    )\n",
    "    assert uniques2 == uniques1"
   ]
  },
  {
   "cell_type": "code",
   "execution_count": 23,
   "metadata": {},
   "outputs": [],
   "source": [
    "test_uniques_in_matrix()"
   ]
  },
  {
   "cell_type": "markdown",
   "metadata": {},
   "source": [
    "## Count unique values in medians matrices"
   ]
  },
  {
   "cell_type": "code",
   "execution_count": 42,
   "metadata": {
    "collapsed": true
   },
   "outputs": [],
   "source": [
    "def count_unique_medians(medians):\n",
    "    uniques_counts = [len(uniques_in_matrix(medians.iloc[i])) for i in range(len(medians))]\n",
    "    ind_with_min_count, min_count = min(enumerate(uniques_counts), key=lambda pair: pair[1])\n",
    "    ind_with_max_count, max_count = max(enumerate(uniques_counts), key=lambda pair: pair[1])\n",
    "    print(\n",
    "        \"Minimum number of unique values in matrix is {0}. Message length = {1}.\"\n",
    "            .format(min_count, medians.keys()[ind_with_min_count])\n",
    "    )\n",
    "    print(\n",
    "        \"Maximum number of unique values in matrix is {0}. Message length = {1}.\"\n",
    "            .format(max_count, medians.keys()[ind_with_max_count])\n",
    "    )"
   ]
  },
  {
   "cell_type": "code",
   "execution_count": null,
   "metadata": {},
   "outputs": [
    {
     "name": "stdout",
     "output_type": "stream",
     "text": [
      "2016-11-04-lom2_100_nodes\n"
     ]
    }
   ],
   "source": [
    "for directory in TEST_RESULT_DIRECTORIES:\n",
    "    medians = import_data(directory).medians\n",
    "    print(directory.basename())\n",
    "    count_unique_medians(medians)"
   ]
  },
  {
   "cell_type": "code",
   "execution_count": 43,
   "metadata": {
    "scrolled": true
   },
   "outputs": [
    {
     "name": "stdout",
     "output_type": "stream",
     "text": [
      "Minimum number of unique values in matrix is 5. Message length = message_len_600.\n",
      "Maximum number of unique values in matrix is 38. Message length = message_len_6200.\n"
     ]
    }
   ],
   "source": [
    "count_unique_medians(test_results.medians)"
   ]
  },
  {
   "cell_type": "code",
   "execution_count": 44,
   "metadata": {},
   "outputs": [
    {
     "data": {
      "text/plain": [
       "Path('/home/shibbiry/Dropbox/documents/msu/bachelors_thesis_cluster_topology/test_results/2016-11-04-lom2_100_nodes')"
      ]
     },
     "execution_count": 44,
     "metadata": {},
     "output_type": "execute_result"
    }
   ],
   "source": [
    "TEST_RESULT_DIRECTORIES[0]"
   ]
  },
  {
   "cell_type": "markdown",
   "metadata": {},
   "source": [
    "## Prediction Algorithm"
   ]
  },
  {
   "cell_type": "code",
   "execution_count": null,
   "metadata": {
    "collapsed": true
   },
   "outputs": [],
   "source": [
    "def make_predictor(test_results):\n",
    "    data = {\n",
    "        {class_: ?? for class_ in classes.index}\n",
    "        for length in test_results.msg_lengths\n",
    "    }"
   ]
  },
  {
   "cell_type": "code",
   "execution_count": null,
   "metadata": {
    "collapsed": true
   },
   "outputs": [],
   "source": [
    "def predict(test_results, message_length, node1, node2):\n",
    "    "
   ]
  }
 ],
 "metadata": {
  "kernelspec": {
   "display_name": "Python 3",
   "language": "python",
   "name": "python3"
  },
  "language_info": {
   "codemirror_mode": {
    "name": "ipython",
    "version": 3
   },
   "file_extension": ".py",
   "mimetype": "text/x-python",
   "name": "python",
   "nbconvert_exporter": "python",
   "pygments_lexer": "ipython3",
   "version": "3.6.1"
  }
 },
 "nbformat": 4,
 "nbformat_minor": 2
}

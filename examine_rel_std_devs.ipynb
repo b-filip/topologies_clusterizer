{
 "cells": [
  {
   "cell_type": "code",
   "execution_count": 1,
   "metadata": {},
   "outputs": [],
   "source": [
    "from predict import load_test_results, TestResults\n",
    "from validate import join_dict_to_table\n",
    "import netCDF4\n",
    "from path import Path\n",
    "from IPython.display import display\n",
    "from functools import reduce, partial\n",
    "from scipy.stats.mstats import gmean"
   ]
  },
  {
   "cell_type": "code",
   "execution_count": 2,
   "metadata": {
    "collapsed": true
   },
   "outputs": [],
   "source": [
    "TESTS_RESULTS_DIR = \"/home/shibbiry/Dropbox/documents/msu/bachelors_thesis_cluster_topology/test_results/\""
   ]
  },
  {
   "cell_type": "code",
   "execution_count": 3,
   "metadata": {},
   "outputs": [],
   "source": [
    "def dataset_to_big_table(test_results: TestResults) -> pd.DataFrame:\n",
    "    \"\"\"\n",
    "    Returns DataFrame with columns:\n",
    "        msg_len, node1, node2, ping_mean, ping_median, ping_std_dev\n",
    "    \"\"\"\n",
    "    tables = (\n",
    "        join_dict_to_table(getattr(test_results, attr)).rename(columns={\"value\": column})\n",
    "        for attr, column in [\n",
    "            (\"medians\", \"ping_median\"),\n",
    "            (\"means\", \"ping_mean\"),\n",
    "            (\"std_dev\", \"ping_std_dev\")\n",
    "        ]\n",
    "    )\n",
    "    return reduce(partial(pd.merge, on=[\"msg_len\", \"node1\", \"node2\"]), tables)                 "
   ]
  },
  {
   "cell_type": "code",
   "execution_count": 4,
   "metadata": {
    "collapsed": true
   },
   "outputs": [],
   "source": [
    "datasets = [load_test_results(dir_) for dir_ in Path(TESTS_RESULTS_DIR).dirs()]\n",
    "big_tables = [dataset_to_big_table(dataset) for dataset in datasets]\n",
    "for table in big_tables:\n",
    "    table[\"ping_rel_std_dev\"] = table[\"ping_std_dev\"] / table[\"ping_mean\"]\n",
    "\n",
    "ping_rel_std_dev_geometric_means = pd.DataFrame(\n",
    "    (gmean(table[\"ping_rel_std_dev\"].dropna()) for table in big_tables),\n",
    "    columns=[\"geom_mean_of_ping_rel_std_dev\"]\n",
    ") \\\n",
    "    .assign(name=[dataset.name for dataset in datasets])"
   ]
  },
  {
   "cell_type": "code",
   "execution_count": 5,
   "metadata": {},
   "outputs": [
    {
     "data": {
      "text/html": [
       "<div>\n",
       "<table border=\"1\" class=\"dataframe\">\n",
       "  <thead>\n",
       "    <tr style=\"text-align: right;\">\n",
       "      <th></th>\n",
       "      <th>geom_mean_of_ping_rel_std_dev</th>\n",
       "      <th>name</th>\n",
       "    </tr>\n",
       "  </thead>\n",
       "  <tbody>\n",
       "    <tr>\n",
       "      <th>0</th>\n",
       "      <td>0.314025</td>\n",
       "      <td>2016-11-04-lom2_100_nodes</td>\n",
       "    </tr>\n",
       "    <tr>\n",
       "      <th>1</th>\n",
       "      <td>0.364023</td>\n",
       "      <td>2017-04-29__75_nodes_03</td>\n",
       "    </tr>\n",
       "    <tr>\n",
       "      <th>2</th>\n",
       "      <td>0.366339</td>\n",
       "      <td>2016-02-10__110_nodes</td>\n",
       "    </tr>\n",
       "    <tr>\n",
       "      <th>3</th>\n",
       "      <td>0.290417</td>\n",
       "      <td>2017-02-12__118_nodes</td>\n",
       "    </tr>\n",
       "    <tr>\n",
       "      <th>4</th>\n",
       "      <td>0.369574</td>\n",
       "      <td>2017-04-29__25_nodes_01</td>\n",
       "    </tr>\n",
       "    <tr>\n",
       "      <th>5</th>\n",
       "      <td>0.366339</td>\n",
       "      <td>2017-02-10__110_nodes</td>\n",
       "    </tr>\n",
       "  </tbody>\n",
       "</table>\n",
       "</div>"
      ],
      "text/plain": [
       "   geom_mean_of_ping_rel_std_dev                       name\n",
       "0                       0.314025  2016-11-04-lom2_100_nodes\n",
       "1                       0.364023    2017-04-29__75_nodes_03\n",
       "2                       0.366339      2016-02-10__110_nodes\n",
       "3                       0.290417      2017-02-12__118_nodes\n",
       "4                       0.369574    2017-04-29__25_nodes_01\n",
       "5                       0.366339      2017-02-10__110_nodes"
      ]
     },
     "execution_count": 5,
     "metadata": {},
     "output_type": "execute_result"
    }
   ],
   "source": [
    "ping_rel_std_dev_geometric_means"
   ]
  }
 ],
 "metadata": {
  "kernelspec": {
   "display_name": "Python 3",
   "language": "python",
   "name": "python3"
  },
  "language_info": {
   "codemirror_mode": {
    "name": "ipython",
    "version": 3
   },
   "file_extension": ".py",
   "mimetype": "text/x-python",
   "name": "python",
   "nbconvert_exporter": "python",
   "pygments_lexer": "ipython3",
   "version": "3.6.1"
  }
 },
 "nbformat": 4,
 "nbformat_minor": 2
}

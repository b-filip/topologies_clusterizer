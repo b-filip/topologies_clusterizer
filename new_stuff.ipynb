{
 "cells": [
  {
   "cell_type": "code",
   "execution_count": 73,
   "metadata": {
    "collapsed": false
   },
   "outputs": [],
   "source": [
    "import re\n",
    "from openpyxl import load_workbook # pip install --user openpyxl\n",
    "from itertools import chain\n",
    "import pandas as pd\n",
    "from IPython.display import display"
   ]
  },
  {
   "cell_type": "code",
   "execution_count": 2,
   "metadata": {
    "collapsed": true
   },
   "outputs": [],
   "source": [
    "# path to \"cable journal\" excel file\n",
    "# it's a MS Excel spreadsheet with a list of node connections\n",
    "# in Lomonosov 2 cluster\n",
    "# I am not allowed to share it.\n",
    "SPREADSHEET_FILENAME = r'wire_journal_48_53.xlsx'"
   ]
  },
  {
   "cell_type": "code",
   "execution_count": 3,
   "metadata": {
    "collapsed": false
   },
   "outputs": [],
   "source": [
    "# regex for parsing rack number and other numbers from cells\n",
    "# with switch names in the spreadsheet\n",
    "switch_regex = re.compile(\n",
    "    r\"\"\"\n",
    "    КГК\\.       # literally match what is written here\n",
    "    (?P<rack>\\d+)\\.        # rack number is one or more digits, followed by dot\n",
    "    (?P<second_number>\\d+)\\.            # then goes another non-negative integer followed by dot\n",
    "    (?P<last_number>\\d+)            # and another integer of the same form\n",
    "    \"\"\",\n",
    "    re.VERBOSE)\n",
    "\n",
    "assert switch_regex.match(\"КГК.63.2.4\").groups() == (\"63\", \"2\", \"4\")"
   ]
  },
  {
   "cell_type": "markdown",
   "metadata": {},
   "source": [
    "## Parse data from the spreadsheet using openpyxl"
   ]
  },
  {
   "cell_type": "code",
   "execution_count": 4,
   "metadata": {
    "collapsed": true
   },
   "outputs": [],
   "source": [
    "def get_column_name(column):\n",
    "    \"\"\"Takes column as tuple as argument and returns\n",
    "    its name as string\"\"\"\n",
    "    return column[0].column"
   ]
  },
  {
   "cell_type": "code",
   "execution_count": 5,
   "metadata": {
    "collapsed": true
   },
   "outputs": [],
   "source": [
    "def extract_columns(worksheet, column_names):\n",
    "    \"\"\"\n",
    "    parameters:\n",
    "        worksheet -- worksheet\n",
    "        column_names -- list of strings, for example\n",
    "            ['A', 'C', 'E']\n",
    "    returns:\n",
    "        list of columns, where every column is represented\n",
    "        as a tuple\"\"\"\n",
    "    all_columns = worksheet.columns\n",
    "    extracted_columns = [col for col in all_columns\n",
    "                         if get_column_name(col) in column_names]\n",
    "    assert len(extracted_columns) == len(column_names)\n",
    "    return extracted_columns"
   ]
  },
  {
   "cell_type": "code",
   "execution_count": 6,
   "metadata": {
    "collapsed": true
   },
   "outputs": [],
   "source": [
    "def columns_to_tuples(columns):\n",
    "    \"\"\"parameters:\n",
    "        columns -- columns as a tuple/list of tuples\n",
    "    returns:\n",
    "        list of lists/tuples, each one represents a row\"\"\"\n",
    "    return [[cell.value for cell in row] for row in zip(*columns)]"
   ]
  },
  {
   "cell_type": "code",
   "execution_count": 7,
   "metadata": {
    "collapsed": true
   },
   "outputs": [],
   "source": [
    "def parse_switch_pairs(workbook):\n",
    "    \"\"\"Parse openpyxl workbook and extract a list of\n",
    "    pairs of switches. Pair (A, B) means that swithes A\n",
    "    and B are connected.\n",
    "    Returns list of pairs of strings.\"\"\"\n",
    "    return list(chain(*[columns_to_tuples(extract_columns(worksheet, ['C', 'K']))\n",
    "            for worksheet in workbook]))"
   ]
  },
  {
   "cell_type": "code",
   "execution_count": 8,
   "metadata": {
    "collapsed": true
   },
   "outputs": [],
   "source": [
    "# Lomonosov2's racks are grouped into pairs\n",
    "# Switches in the same rack or pair of racks are connected with copper wires\n",
    "# Switches in different pairs of racks are connected with optic cable\n",
    "RACK_PAIRS = ((48, 49), (50, 51), (52, 53))"
   ]
  },
  {
   "cell_type": "code",
   "execution_count": 9,
   "metadata": {
    "collapsed": false
   },
   "outputs": [],
   "source": [
    "def get_rack(switch_name):\n",
    "    \"\"\"Determines rack number from switch name\"\"\"\n",
    "    return int(switch_regex.match(switch_name).group('rack'))\n",
    "\n",
    "assert get_rack('КГК.48.0.1') == 48"
   ]
  },
  {
   "cell_type": "code",
   "execution_count": 18,
   "metadata": {
    "collapsed": true
   },
   "outputs": [],
   "source": [
    "def determine_material_between_switches(rack1, rack2):\n",
    "    \"\"\"Switches have different material between them.\n",
    "    See comment about RACK_PAIRS.\n",
    "    \n",
    "    This function determines cable material between two switches\n",
    "    by using their rack numbers and returns it as string\"\"\"\n",
    "    racks = (rack1, rack2)\n",
    "    if any(\n",
    "            all(rack in rack_pair for rack in racks)\n",
    "            for rack_pair in RACK_PAIRS):\n",
    "        # they are in the same pair of racks\n",
    "        return 'copper'\n",
    "    return 'optic'"
   ]
  },
  {
   "cell_type": "code",
   "execution_count": 20,
   "metadata": {
    "collapsed": true
   },
   "outputs": [],
   "source": [
    "def get_cable_material_from_row(row):\n",
    "    rack1 = row.loc[\"switch1_rack\"]\n",
    "    rack2 = row.loc[\"switch2_rack\"]\n",
    "    return determine_material_between_switches(rack1, rack2)"
   ]
  },
  {
   "cell_type": "code",
   "execution_count": 21,
   "metadata": {
    "collapsed": false
   },
   "outputs": [
    {
     "data": {
      "text/plain": [
       "'copper'"
      ]
     },
     "execution_count": 21,
     "metadata": {},
     "output_type": "execute_result"
    }
   ],
   "source": [
    "determine_material_between_switches(48, 48)"
   ]
  },
  {
   "cell_type": "code",
   "execution_count": 22,
   "metadata": {
    "collapsed": false,
    "scrolled": true
   },
   "outputs": [
    {
     "name": "stderr",
     "output_type": "stream",
     "text": [
      "/home/shibbiry/.local/lib/python3.6/site-packages/openpyxl/reader/worksheet.py:307: UserWarning: Unknown extension is not supported and will be removed\n",
      "  warn(msg)\n"
     ]
    }
   ],
   "source": [
    "workbook = load_workbook(SPREADSHEET_FILENAME)"
   ]
  },
  {
   "cell_type": "code",
   "execution_count": 23,
   "metadata": {
    "collapsed": true
   },
   "outputs": [],
   "source": [
    "x = parse_switch_pairs(workbook)"
   ]
  },
  {
   "cell_type": "code",
   "execution_count": 24,
   "metadata": {
    "collapsed": false
   },
   "outputs": [],
   "source": [
    "df = pd.DataFrame(x, columns=[\"switch1_name\", \"switch2_name\"])"
   ]
  },
  {
   "cell_type": "code",
   "execution_count": 25,
   "metadata": {
    "collapsed": true
   },
   "outputs": [],
   "source": [
    "df[\"switch1_rack\"] = df[\"switch1_name\"].apply(get_rack)\n",
    "df[\"switch2_rack\"] = df[\"switch2_name\"].apply(get_rack)"
   ]
  },
  {
   "cell_type": "code",
   "execution_count": 27,
   "metadata": {
    "collapsed": false
   },
   "outputs": [
    {
     "data": {
      "text/html": [
       "<div>\n",
       "<table border=\"1\" class=\"dataframe\">\n",
       "  <thead>\n",
       "    <tr style=\"text-align: right;\">\n",
       "      <th></th>\n",
       "      <th>switch1_name</th>\n",
       "      <th>switch2_name</th>\n",
       "      <th>switch1_rack</th>\n",
       "      <th>switch2_rack</th>\n",
       "      <th>cable_type</th>\n",
       "    </tr>\n",
       "  </thead>\n",
       "  <tbody>\n",
       "    <tr>\n",
       "      <th>1531</th>\n",
       "      <td>КГК.51.1.3</td>\n",
       "      <td>КГК.53.6.2</td>\n",
       "      <td>51</td>\n",
       "      <td>53</td>\n",
       "      <td>optic</td>\n",
       "    </tr>\n",
       "    <tr>\n",
       "      <th>1532</th>\n",
       "      <td>КГК.51.2.1</td>\n",
       "      <td>КГК.53.5.4</td>\n",
       "      <td>51</td>\n",
       "      <td>53</td>\n",
       "      <td>optic</td>\n",
       "    </tr>\n",
       "    <tr>\n",
       "      <th>1533</th>\n",
       "      <td>КГК.51.2.3</td>\n",
       "      <td>КГК.53.5.2</td>\n",
       "      <td>51</td>\n",
       "      <td>53</td>\n",
       "      <td>optic</td>\n",
       "    </tr>\n",
       "    <tr>\n",
       "      <th>1534</th>\n",
       "      <td>КГК.51.3.1</td>\n",
       "      <td>КГК.53.4.4</td>\n",
       "      <td>51</td>\n",
       "      <td>53</td>\n",
       "      <td>optic</td>\n",
       "    </tr>\n",
       "    <tr>\n",
       "      <th>1535</th>\n",
       "      <td>КГК.51.3.3</td>\n",
       "      <td>КГК.53.4.2</td>\n",
       "      <td>51</td>\n",
       "      <td>53</td>\n",
       "      <td>optic</td>\n",
       "    </tr>\n",
       "  </tbody>\n",
       "</table>\n",
       "</div>"
      ],
      "text/plain": [
       "     switch1_name switch2_name  switch1_rack  switch2_rack cable_type\n",
       "1531   КГК.51.1.3   КГК.53.6.2            51            53      optic\n",
       "1532   КГК.51.2.1   КГК.53.5.4            51            53      optic\n",
       "1533   КГК.51.2.3   КГК.53.5.2            51            53      optic\n",
       "1534   КГК.51.3.1   КГК.53.4.4            51            53      optic\n",
       "1535   КГК.51.3.3   КГК.53.4.2            51            53      optic"
      ]
     },
     "execution_count": 27,
     "metadata": {},
     "output_type": "execute_result"
    }
   ],
   "source": [
    "df[\"cable_type\"] = df.apply(get_cable_material_from_row, axis=1)\n",
    "df.tail()"
   ]
  },
  {
   "cell_type": "code",
   "execution_count": 64,
   "metadata": {
    "collapsed": false
   },
   "outputs": [],
   "source": [
    "switches = pd.Series(list(frozenset(df[\"switch1_name\"]).union(df[\"switch2_name\"]))) \\\n",
    "    .rename(\"switch_name\").sort_values()"
   ]
  },
  {
   "cell_type": "code",
   "execution_count": 65,
   "metadata": {
    "collapsed": false
   },
   "outputs": [
    {
     "name": "stdout",
     "output_type": "stream",
     "text": [
      "192\n"
     ]
    },
    {
     "data": {
      "text/plain": [
       "11     КГК.48.0.1\n",
       "63     КГК.48.0.2\n",
       "90     КГК.48.0.3\n",
       "20     КГК.48.0.4\n",
       "104    КГК.48.1.1\n",
       "Name: switch_name, dtype: object"
      ]
     },
     "execution_count": 65,
     "metadata": {},
     "output_type": "execute_result"
    }
   ],
   "source": [
    "print(len(switches))\n",
    "switches.head()"
   ]
  },
  {
   "cell_type": "markdown",
   "metadata": {},
   "source": [
    "Now let's build table with all connections, that is with switches and computational nodes"
   ]
  },
  {
   "cell_type": "code",
   "execution_count": 67,
   "metadata": {
    "collapsed": false
   },
   "outputs": [
    {
     "data": {
      "text/html": [
       "<div>\n",
       "<table border=\"1\" class=\"dataframe\">\n",
       "  <thead>\n",
       "    <tr style=\"text-align: right;\">\n",
       "      <th></th>\n",
       "      <th>comp_node</th>\n",
       "      <th>switch</th>\n",
       "    </tr>\n",
       "  </thead>\n",
       "  <tbody>\n",
       "  </tbody>\n",
       "</table>\n",
       "</div>"
      ],
      "text/plain": [
       "Empty DataFrame\n",
       "Columns: [comp_node, switch]\n",
       "Index: []"
      ]
     },
     "execution_count": 67,
     "metadata": {},
     "output_type": "execute_result"
    }
   ],
   "source": [
    "computational_nodes = pd.DataFrame(columns=[\"comp_node\", \"switch\"])\n",
    "computational_nodes"
   ]
  },
  {
   "cell_type": "code",
   "execution_count": 68,
   "metadata": {
    "collapsed": true
   },
   "outputs": [],
   "source": [
    "def get_matching_computational_nodes(switch):\n",
    "    \"\"\"params:\n",
    "        switch -- string, name of the switch\n",
    "    returns:\n",
    "        list of strings which are names of computational\n",
    "        nodes connected to this switch\"\"\"\n",
    "    get_thingie = switch_regex.match(switch).group\n",
    "    return [\n",
    "        'n{0}{1}{2:02d}'.format(\n",
    "            get_thingie('rack'),\n",
    "            get_thingie('second_number'),\n",
    "            (int(get_thingie('last_number')) - 1) * 8 + i\n",
    "        )\n",
    "        for i in range(1, 9)\n",
    "    ]"
   ]
  },
  {
   "cell_type": "code",
   "execution_count": 82,
   "metadata": {
    "collapsed": false
   },
   "outputs": [],
   "source": [
    "bzz = pd.concat(\n",
    "    (pd.DataFrame.from_dict({\n",
    "        \"computational_node\": get_matching_computational_nodes(switch),\n",
    "        \"switch\": switch})\n",
    "    for switch in switches),\n",
    "    ignore_index=True\n",
    ")"
   ]
  },
  {
   "cell_type": "code",
   "execution_count": 75,
   "metadata": {
    "collapsed": false
   },
   "outputs": [
    {
     "data": {
      "text/html": [
       "<div>\n",
       "<table border=\"1\" class=\"dataframe\">\n",
       "  <thead>\n",
       "    <tr style=\"text-align: right;\">\n",
       "      <th></th>\n",
       "      <th>computational_node</th>\n",
       "      <th>switch</th>\n",
       "    </tr>\n",
       "  </thead>\n",
       "  <tbody>\n",
       "    <tr>\n",
       "      <th>0</th>\n",
       "      <td>n48001</td>\n",
       "      <td>КГК.48.0.1</td>\n",
       "    </tr>\n",
       "    <tr>\n",
       "      <th>1</th>\n",
       "      <td>n48002</td>\n",
       "      <td>КГК.48.0.1</td>\n",
       "    </tr>\n",
       "    <tr>\n",
       "      <th>2</th>\n",
       "      <td>n48003</td>\n",
       "      <td>КГК.48.0.1</td>\n",
       "    </tr>\n",
       "    <tr>\n",
       "      <th>3</th>\n",
       "      <td>n48004</td>\n",
       "      <td>КГК.48.0.1</td>\n",
       "    </tr>\n",
       "    <tr>\n",
       "      <th>4</th>\n",
       "      <td>n48005</td>\n",
       "      <td>КГК.48.0.1</td>\n",
       "    </tr>\n",
       "    <tr>\n",
       "      <th>5</th>\n",
       "      <td>n48006</td>\n",
       "      <td>КГК.48.0.1</td>\n",
       "    </tr>\n",
       "    <tr>\n",
       "      <th>6</th>\n",
       "      <td>n48007</td>\n",
       "      <td>КГК.48.0.1</td>\n",
       "    </tr>\n",
       "    <tr>\n",
       "      <th>7</th>\n",
       "      <td>n48008</td>\n",
       "      <td>КГК.48.0.1</td>\n",
       "    </tr>\n",
       "  </tbody>\n",
       "</table>\n",
       "</div>"
      ],
      "text/plain": [
       "  computational_node      switch\n",
       "0             n48001  КГК.48.0.1\n",
       "1             n48002  КГК.48.0.1\n",
       "2             n48003  КГК.48.0.1\n",
       "3             n48004  КГК.48.0.1\n",
       "4             n48005  КГК.48.0.1\n",
       "5             n48006  КГК.48.0.1\n",
       "6             n48007  КГК.48.0.1\n",
       "7             n48008  КГК.48.0.1"
      ]
     },
     "metadata": {},
     "output_type": "display_data"
    }
   ],
   "source": [
    "for switch in switches:\n",
    "    # each switch has 8 computational nodes connected\n",
    "    comp_nodes = get_matching_computational_nodes(switch)\n",
    "    x = pd.DataFrame.from_dict(\n",
    "        {\"computational_node\": comp_nodes, \"switch\": switch})\n",
    "    display(x)\n",
    "    break"
   ]
  }
 ],
 "metadata": {
  "kernelspec": {
   "display_name": "Python 3",
   "language": "python",
   "name": "python3"
  },
  "language_info": {
   "codemirror_mode": {
    "name": "ipython",
    "version": 3
   },
   "file_extension": ".py",
   "mimetype": "text/x-python",
   "name": "python",
   "nbconvert_exporter": "python",
   "pygments_lexer": "ipython3",
   "version": "3.6.0"
  }
 },
 "nbformat": 4,
 "nbformat_minor": 2
}

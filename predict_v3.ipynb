{
 "cells": [
  {
   "cell_type": "code",
   "execution_count": null,
   "metadata": {
    "collapsed": true
   },
   "outputs": [],
   "source": [
    "import pandas as pd\n",
    "import numpy as np\n",
    "from path import Path  # pip install --user path.py\n",
    "import re\n",
    "from IPython.display import display\n",
    "from pprint import pprint\n",
    "import netCDF4\n",
    "from IPython.core.debugger import Pdb\n",
    "from collections import namedtuple\n",
    "from random import randint, choice"
   ]
  },
  {
   "cell_type": "markdown",
   "metadata": {},
   "source": [
    "## Work with topology"
   ]
  },
  {
   "cell_type": "code",
   "execution_count": null,
   "metadata": {
    "collapsed": true
   },
   "outputs": [],
   "source": [
    "def build_extended_node_pairs(node_pairs):\n",
    "    inversed_node_pairs = node_pairs.rename(columns={\"node1\": \"node2\", \"node2\": \"node1\"})\n",
    "    return pd.concat(\n",
    "        [node_pairs, inversed_node_pairs],\n",
    "        ignore_index = True, verify_integrity=True\n",
    "    ) \\\n",
    "        .drop_duplicates(subset=[\"node1\", \"node2\"]) \\\n",
    "        .set_index([\"node1\", \"node2\"], verify_integrity=True)"
   ]
  },
  {
   "cell_type": "code",
   "execution_count": null,
   "metadata": {
    "collapsed": true
   },
   "outputs": [],
   "source": [
    "node_pairs = pd.read_pickle(\"paths_with_classes.pkl\").drop(\"shortest_path\", axis=1)\n",
    "classes = pd.read_pickle(\"classes.pkl\")"
   ]
  },
  {
   "cell_type": "code",
   "execution_count": null,
   "metadata": {
    "collapsed": true
   },
   "outputs": [],
   "source": [
    "extended_node_pairs = build_extended_node_pairs(node_pairs)"
   ]
  },
  {
   "cell_type": "markdown",
   "metadata": {},
   "source": [
    "## This program can only work with data results with following properties"
   ]
  },
  {
   "cell_type": "code",
   "execution_count": null,
   "metadata": {
    "collapsed": true
   },
   "outputs": [],
   "source": [
    "MSG_LEN_START = 0\n",
    "MSG_LEN_END = 10000  # last message length should be 9900\n",
    "MSG_LEN_STEP = 100\n",
    "STEPS_COUNT = (MSG_LEN_END - MSG_LEN_START) // MSG_LEN_STEP - 1\n",
    "LENGTHS = range(MSG_LEN_START, MSG_LEN_END, MSG_LEN_STEP)\n",
    "\n",
    "assert MSG_LEN_START + (STEPS_COUNT + 1) * MSG_LEN_STEP == MSG_LEN_END"
   ]
  },
  {
   "cell_type": "markdown",
   "metadata": {},
   "source": [
    "## Code for loading benchmark results"
   ]
  },
  {
   "cell_type": "code",
   "execution_count": null,
   "metadata": {
    "collapsed": true
   },
   "outputs": [],
   "source": [
    "TestResults = namedtuple(\"TestResults\", [\"hostnames\", \"medians\"])"
   ]
  },
  {
   "cell_type": "code",
   "execution_count": null,
   "metadata": {
    "collapsed": true
   },
   "outputs": [],
   "source": [
    "def matrix_to_table(matrix):\n",
    "    table = matrix.stack().reset_index()\n",
    "    table.columns = [\"node1\", \"node2\", \"ping\"]\n",
    "    return table"
   ]
  },
  {
   "cell_type": "code",
   "execution_count": null,
   "metadata": {
    "collapsed": true
   },
   "outputs": [],
   "source": [
    "def read_benchmark_hostnames(path_to_file):\n",
    "    lines = path_to_file.lines()\n",
    "    return (re.match(r\"^(n\\d{5})\\.\", line).groups()[0] for line in lines)"
   ]
  },
  {
   "cell_type": "code",
   "execution_count": null,
   "metadata": {
    "collapsed": true
   },
   "outputs": [],
   "source": [
    "def import_data(directory):\n",
    "    hostnames = tuple(read_benchmark_hostnames(directory.joinpath(\"network_hosts.txt\")))\n",
    "    with netCDF4.Dataset(directory.joinpath(\"network_median.nc\"), \"r\")  as dataset:\n",
    "        step_len = dataset[\"step_length\"][0]\n",
    "        start_len = dataset[\"begin_mes_length\"][0]\n",
    "        end_len = dataset[\"end_mes_length\"][0]\n",
    "        \n",
    "        assert len(hostnames) == dataset[\"proc_num\"][0]\n",
    "        assert dataset[\"test_type\"][0] == 1  # one-to-one\n",
    "        assert start_len == MSG_LEN_START\n",
    "        assert end_len == MSG_LEN_END  \n",
    "        assert step_len == MSG_LEN_STEP\n",
    "        \n",
    "        # build matrices where columns represent node1, rows represent node2,\n",
    "        # cells contain ping values\n",
    "        matrices = (\n",
    "            pd.DataFrame(dataset[\"data\"][index], index=hostnames, columns=hostnames)\n",
    "            for index in range(STEPS_COUNT + 1)\n",
    "        )\n",
    "\n",
    "        # convert matrices to tables\n",
    "        tables = {\n",
    "            length: matrix_to_table(matrix)\n",
    "                  for (length, matrix) in zip(LENGTHS, matrices)\n",
    "        }\n",
    "    return TestResults(hostnames=hostnames, medians=tables)"
   ]
  },
  {
   "cell_type": "code",
   "execution_count": null,
   "metadata": {
    "collapsed": true
   },
   "outputs": [],
   "source": [
    "test_results = import_data(Path(\"/home/shibbiry/Dropbox/documents/msu/bachelors_thesis_cluster_topology/test_results/2017-02-12__118_nodes/\"))"
   ]
  },
  {
   "cell_type": "markdown",
   "metadata": {},
   "source": [
    "## Predict using topology and benchmark results"
   ]
  },
  {
   "cell_type": "code",
   "execution_count": null,
   "metadata": {
    "collapsed": true
   },
   "outputs": [],
   "source": [
    "def check_all_classes_covered(extended_node_pairs, hostnames):\n",
    "    \"\"\"Fails an assertion if there is a class of pairs\n",
    "    that was not covered by the test\"\"\"\n",
    "    # WORKING HERE RIGHT NOW\n",
    "    pairs_tested = pd.DataFrame.from_records(\n",
    "        ({\"node1\": node1, \"node2\": node2}\n",
    "         for node1 in hostnames for node2 in hostnames)\n",
    "    )\n",
    "    pairs_tested_with_class = pairs_tested \\\n",
    "        .join(extended_node_pairs, on=[\"node1\", \"node2\"])\n",
    "    assert len(pairs_tested_with_class[\"class_\"].unique()) == len(classes)"
   ]
  },
  {
   "cell_type": "code",
   "execution_count": null,
   "metadata": {
    "collapsed": true
   },
   "outputs": [],
   "source": [
    "class Predictor():\n",
    "    \"\"\"Predicts ping for a packet with specific message_size between 2 nodes,\n",
    "    measured in seconds.\"\"\"\n",
    "    def __init__(self, extended_node_pairs, test_results):\n",
    "        # build tables with 2 columns each: class_, ping. There will be many rows with same class_\n",
    "        pings_classes = (\n",
    "            test_results.medians[msg_len] \\\n",
    "                .join(extended_node_pairs, on=[\"node1\", \"node2\"], how=\"left\") \\\n",
    "                .reset_index(drop=True)\n",
    "            for msg_len in LENGTHS\n",
    "        )\n",
    "        \n",
    "        # reverse lookup table (by message length and class)\n",
    "        self._data = pd.concat(\n",
    "            {\n",
    "                msg_len: df.groupby(\"class_\").mean()\n",
    "                for (msg_len, df) in zip(LENGTHS, pings_classes)\n",
    "            },\n",
    "            names=[\"msg_len\", \"class_\"]\n",
    "        ).rename(columns={\"ping\": \"mean_of_medians_ping\"})\n",
    "        \n",
    "        check_all_classes_covered(extended_node_pairs, test_results.hostnames)\n",
    "        self._extended_node_pairs = extended_node_pairs\n",
    "    \n",
    "    def _get_class(self, node1, node2):\n",
    "        return self._extended_node_pairs.loc[node1, node2][\"class_\"]\n",
    "    \n",
    "    def predict_many(self, df):\n",
    "        \"\"\"df must have columns: msg_len, node1, node2.\n",
    "        Returns table with rows in the same order,\n",
    "        all other columns dropped and column of ping predictions appended.\"\"\"\n",
    "        return df \\\n",
    "            .join(self._extended_node_pairs, on=[\"node1\", \"node2\"], how=\"left\") \\\n",
    "            .join(self._data, on=[\"msg_len\", \"class_\"], how=\"left\") \\\n",
    "            .rename(columns={\"mean_of_medians_ping\": \"predicted_ping\"}) \\\n",
    "            .drop(labels=[\"class_\"], axis=1)\n",
    "    \n",
    "    def predict(self, msg_len, node1, node2):\n",
    "        \"\"\"This function takes about 1ms\"\"\"\n",
    "        return self._data.loc[msg_len, self._get_class(node1, node2)].iloc[0]"
   ]
  },
  {
   "cell_type": "code",
   "execution_count": null,
   "metadata": {
    "collapsed": true
   },
   "outputs": [],
   "source": [
    "predictor = Predictor(extended_node_pairs, test_results)"
   ]
  },
  {
   "cell_type": "markdown",
   "metadata": {},
   "source": [
    "## Test it"
   ]
  },
  {
   "cell_type": "code",
   "execution_count": null,
   "metadata": {
    "collapsed": true
   },
   "outputs": [],
   "source": [
    "assert predictor.predict(4000, \"n48003\", \"n48009\") == 5.0074094301694399e-06"
   ]
  },
  {
   "cell_type": "code",
   "execution_count": null,
   "metadata": {
    "collapsed": true
   },
   "outputs": [],
   "source": [
    "def get_random_samples(count):\n",
    "    return node_pairs.sample(n=count)[[\"node1\", \"node2\"]] \\\n",
    "        .assign(msg_len=np.random.randint(0, STEPS_COUNT, size=count) * MSG_LEN_STEP)"
   ]
  },
  {
   "cell_type": "code",
   "execution_count": null,
   "metadata": {},
   "outputs": [],
   "source": [
    "%%timeit\n",
    "predictor.predict_many(get_random_samples(100000))"
   ]
  },
  {
   "cell_type": "markdown",
   "metadata": {},
   "source": [
    "## Validation"
   ]
  },
  {
   "cell_type": "code",
   "execution_count": null,
   "metadata": {
    "collapsed": true
   },
   "outputs": [],
   "source": [
    "def join_dict_to_table(dict_):\n",
    "    \"\"\"Can be used on test_results.medians.\n",
    "    \n",
    "    Takes a dict (msg_len -> df(node1, node2, ping))\n",
    "    \n",
    "    Returns df(msg_len, node1, node2, ping) with dummy index\"\"\"\n",
    "    return pd.concat(dict_, names=[\"msg_len\", \"dumb_index\"], verify_integrity=True) \\\n",
    "        .reset_index(level=1, drop=True) \\\n",
    "        .reset_index()"
   ]
  },
  {
   "cell_type": "code",
   "execution_count": null,
   "metadata": {},
   "outputs": [],
   "source": [
    "def join_ping_data(multiple_tests_results):\n",
    "    \"\"\"Takes an iterable of TestResults.\n",
    "    Takes medians from all of them and concatenates them all.\n",
    "    You get a DataFrame with columns (msg_len, node1, node2, ping)\"\"\"\n",
    "    return pd.concat(\n",
    "        (join_dict_to_table(test_results.medians) for test_results in multiple_tests_results),\n",
    "        ignore_index=True\n",
    "    )"
   ]
  },
  {
   "cell_type": "code",
   "execution_count": null,
   "metadata": {
    "collapsed": true
   },
   "outputs": [],
   "source": [
    "TEST_RESULT_DIRECTORIES = Path(\"/home/shibbiry/Dropbox/documents/msu/bachelors_thesis_cluster_topology/test_results\") \\\n",
    "    .dirs()"
   ]
  },
  {
   "cell_type": "code",
   "execution_count": null,
   "metadata": {
    "collapsed": true
   },
   "outputs": [],
   "source": [
    "study_data = import_data(TEST_RESULT_DIRECTORIES[0])\n",
    "validation_data = join_ping_data(import_data(directory) for directory in TEST_RESULT_DIRECTORIES[1:])"
   ]
  },
  {
   "cell_type": "code",
   "execution_count": null,
   "metadata": {
    "collapsed": true
   },
   "outputs": [],
   "source": [
    "predictor = Predictor(extended_node_pairs, study_data)"
   ]
  },
  {
   "cell_type": "code",
   "execution_count": null,
   "metadata": {},
   "outputs": [],
   "source": [
    "predictions = predictor.predict_many(validation_data)"
   ]
  },
  {
   "cell_type": "code",
   "execution_count": null,
   "metadata": {},
   "outputs": [],
   "source": [
    "error = (predictions[\"ping\"] - predictions[\"predicted_ping\"]) ** 2"
   ]
  },
  {
   "cell_type": "code",
   "execution_count": null,
   "metadata": {},
   "outputs": [],
   "source": [
    "error.mean()"
   ]
  }
 ],
 "metadata": {
  "git": {
   "suppress_outputs": true
  },
  "kernelspec": {
   "display_name": "Python 3",
   "language": "python",
   "name": "python3"
  },
  "language_info": {
   "codemirror_mode": {
    "name": "ipython",
    "version": 3
   },
   "file_extension": ".py",
   "mimetype": "text/x-python",
   "name": "python",
   "nbconvert_exporter": "python",
   "pygments_lexer": "ipython3",
   "version": "3.6.1"
  }
 },
 "nbformat": 4,
 "nbformat_minor": 2
}

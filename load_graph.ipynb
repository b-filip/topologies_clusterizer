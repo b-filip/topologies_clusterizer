{
 "cells": [
  {
   "cell_type": "code",
   "execution_count": 1,
   "metadata": {
    "collapsed": false
   },
   "outputs": [],
   "source": [
    "from networkx import (Graph, draw, draw_spectral, draw_random, draw_spring, draw_shell,\n",
    "                      get_node_attributes, info, floyd_warshall_numpy, all_pairs_shortest_path,\n",
    "                      floyd_warshall)\n",
    "from random import randint\n",
    "from sys import maxsize\n",
    "from openpyxl import load_workbook\n",
    "from itertools import chain, islice\n",
    "from collections import namedtuple\n",
    "from re import match, VERBOSE, compile\n",
    "import warnings\n",
    "from matplotlib.pyplot import show\n",
    "from functools import partial, wraps"
   ]
  },
  {
   "cell_type": "code",
   "execution_count": 2,
   "metadata": {
    "collapsed": true
   },
   "outputs": [],
   "source": [
    "%matplotlib inline"
   ]
  },
  {
   "cell_type": "code",
   "execution_count": 3,
   "metadata": {
    "collapsed": false
   },
   "outputs": [
    {
     "name": "stdout",
     "output_type": "stream",
     "text": [
      "load_graph.ipynb  wire_journal_48_53.xlsx\r\n"
     ]
    }
   ],
   "source": [
    "ls"
   ]
  },
  {
   "cell_type": "code",
   "execution_count": 4,
   "metadata": {
    "collapsed": true
   },
   "outputs": [],
   "source": [
    "EXCEL_FILENAME = r'wire_journal_48_53.xlsx'"
   ]
  },
  {
   "cell_type": "code",
   "execution_count": 5,
   "metadata": {
    "collapsed": true
   },
   "outputs": [],
   "source": [
    "SWITCH_MODEL = 'SwitchX FDR SX6025'"
   ]
  },
  {
   "cell_type": "code",
   "execution_count": 6,
   "metadata": {
    "collapsed": true
   },
   "outputs": [],
   "source": [
    "COMPUTATIONAL_NODE_MODEL = 'Connect-IB FDR'"
   ]
  },
  {
   "cell_type": "code",
   "execution_count": 7,
   "metadata": {
    "collapsed": false
   },
   "outputs": [],
   "source": [
    "switch_regex = compile(\n",
    "    r\"\"\"\n",
    "    КГК\\.       # literally match what is written here\n",
    "    (?P<rack>\\d+)\\.        # rack number is one or more digits, followed by dot\n",
    "    (?P<second_number>\\d+)\\.            # then goes another non-negative integer followed by dot\n",
    "    (?P<last_number>\\d+)            # and another integer of the same form\n",
    "    \"\"\",\n",
    "    VERBOSE)                      "
   ]
  },
  {
   "cell_type": "code",
   "execution_count": 8,
   "metadata": {
    "collapsed": true
   },
   "outputs": [],
   "source": [
    "RACK_PAIRS = ((48, 49), (50, 51), (52, 53))"
   ]
  },
  {
   "cell_type": "code",
   "execution_count": 9,
   "metadata": {
    "collapsed": true
   },
   "outputs": [],
   "source": [
    "def get_column_name(column):\n",
    "    \"\"\"Takes column as tuple as argument and returns\n",
    "    its name as string\"\"\"\n",
    "    return column[0].column"
   ]
  },
  {
   "cell_type": "code",
   "execution_count": 10,
   "metadata": {
    "collapsed": true
   },
   "outputs": [],
   "source": [
    "def extract_columns(worksheet, column_names):\n",
    "    \"\"\"\n",
    "    parameters:\n",
    "        worksheet -- worksheet\n",
    "        column_names -- list of strings, for example\n",
    "            ['A', 'C', 'E']\n",
    "    returns:\n",
    "        list of columns, where every column is represented\n",
    "        as a tuple\"\"\"\n",
    "    all_columns = worksheet.columns\n",
    "    extracted_columns = [col for col in all_columns\n",
    "                         if get_column_name(col) in column_names]\n",
    "    assert len(extracted_columns) == len(column_names)\n",
    "    return extracted_columns"
   ]
  },
  {
   "cell_type": "code",
   "execution_count": 11,
   "metadata": {
    "collapsed": true
   },
   "outputs": [],
   "source": [
    "def columns_to_tuples(columns):\n",
    "    \"\"\"parameters:\n",
    "        columns -- columns as a tuple/list of tuples\n",
    "    returns:\n",
    "        list of lists/tuples, each one represents a row\"\"\"\n",
    "    return [[cell.value for cell in row] for row in zip(*columns)]"
   ]
  },
  {
   "cell_type": "code",
   "execution_count": 12,
   "metadata": {
    "collapsed": false
   },
   "outputs": [],
   "source": [
    "def parse_switch_pairs(workbook):\n",
    "    \"\"\"Parse openpyxl workbook and extract a list of\n",
    "    pairs of switches. Pair (A, B) means that swithes A\n",
    "    and B are connected.\n",
    "    Returns list of pairs of strings.\"\"\"\n",
    "    return list(chain(*[columns_to_tuples(extract_columns(worksheet, ['C', 'K']))\n",
    "            for worksheet in workbook]))"
   ]
  },
  {
   "cell_type": "code",
   "execution_count": 13,
   "metadata": {
    "collapsed": true
   },
   "outputs": [],
   "source": [
    "SwitchProperties = namedtuple('SwitchProperties', ['model', 'ports_taken'])"
   ]
  },
  {
   "cell_type": "code",
   "execution_count": 14,
   "metadata": {
    "collapsed": true
   },
   "outputs": [],
   "source": [
    "ComputationalNodeProperties = namedtuple(\n",
    "    'ComputationalNodeProperties', ['model'])"
   ]
  },
  {
   "cell_type": "code",
   "execution_count": 15,
   "metadata": {
    "collapsed": true
   },
   "outputs": [],
   "source": [
    "EdgeProperties = namedtuple('EdgeProperties', ['material'])"
   ]
  },
  {
   "cell_type": "code",
   "execution_count": 16,
   "metadata": {
    "collapsed": true
   },
   "outputs": [],
   "source": [
    "def get_rack(switch):\n",
    "    return switch_regex.match(switch).group('rack')"
   ]
  },
  {
   "cell_type": "code",
   "execution_count": 17,
   "metadata": {
    "collapsed": true
   },
   "outputs": [],
   "source": [
    "def get_matching_computational_nodes(switch):\n",
    "    \"\"\"params:\n",
    "        switch -- string, name of the switch\n",
    "    returns:\n",
    "        list of strings which are names of computational\n",
    "        nodes connected to this switch\"\"\"\n",
    "    get_thingie = switch_regex.match(switch).group\n",
    "    return [\n",
    "        'n{0}{1}{2:02d}'.format(\n",
    "            get_thingie('rack'),\n",
    "            get_thingie('second_number'),\n",
    "            (int(get_thingie('last_number')) - 1) * 8 + i\n",
    "        )\n",
    "        for i in range(1, 9)\n",
    "    ]"
   ]
  },
  {
   "cell_type": "code",
   "execution_count": 18,
   "metadata": {
    "collapsed": true
   },
   "outputs": [],
   "source": [
    "def maybe_add_switch(switch, graph):\n",
    "    \"\"\"If the switch is already in the graph, does nothing.\n",
    "    Otherwise adds it and all the computational nodes it should have\n",
    "    according to lom2 rules.\"\"\"\n",
    "    if switch in graph:\n",
    "        return\n",
    "    graph.add_node(switch, properties=SwitchProperties(\n",
    "        model=SWITCH_MODEL, ports_taken=8))\n",
    "    # add computational nodes connected directly to this switch\n",
    "    computational_nodes = get_matching_computational_nodes(switch)\n",
    "    graph.add_nodes_from(\n",
    "        computational_nodes,\n",
    "        properties=ComputationalNodeProperties(model=COMPUTATIONAL_NODE_MODEL))\n",
    "    graph.add_edges_from(((switch, comp) for comp in computational_nodes),\n",
    "                         properties=EdgeProperties(material='backplane'))"
   ]
  },
  {
   "cell_type": "code",
   "execution_count": 19,
   "metadata": {
    "collapsed": true
   },
   "outputs": [],
   "source": [
    "def determine_material_between_switches(switch1, switch2):\n",
    "    racks_of_switches = [get_rack(switch) for switch in (switch1, switch2)]\n",
    "    if any(\n",
    "            all(rack in rack_pair for rack in racks_of_switches)\n",
    "            for rack_pair in RACK_PAIRS):\n",
    "        # they are in the same pair of racks\n",
    "        return 'copper'\n",
    "    return 'optic'"
   ]
  },
  {
   "cell_type": "code",
   "execution_count": 20,
   "metadata": {
    "collapsed": true
   },
   "outputs": [],
   "source": [
    "def add_connection_between_switches(switch1, switch2, graph):\n",
    "    graph.add_edge(\n",
    "        switch1, switch2,\n",
    "        properties=EdgeProperties(\n",
    "            material=determine_material_between_switches(switch1, switch2)))"
   ]
  },
  {
   "cell_type": "code",
   "execution_count": 21,
   "metadata": {
    "collapsed": false
   },
   "outputs": [],
   "source": [
    "def create_lom2_graph(filename):\n",
    "    workbook = load_workbook(filename)\n",
    "    switch_connections = parse_switch_pairs(workbook)\n",
    "    graph = Graph()\n",
    "    for pair_of_switches in switch_connections:\n",
    "        for switch in pair_of_switches:\n",
    "            maybe_add_switch(switch, graph)\n",
    "        add_connection_between_switches(*pair_of_switches, graph=graph)\n",
    "    return graph"
   ]
  },
  {
   "cell_type": "code",
   "execution_count": 22,
   "metadata": {
    "collapsed": true
   },
   "outputs": [],
   "source": [
    "def get_switch_nodes(graph):\n",
    "    return (node for node in graph.nodes() if switch_regex.match(node) is not None)"
   ]
  },
  {
   "cell_type": "code",
   "execution_count": 23,
   "metadata": {
    "collapsed": true
   },
   "outputs": [],
   "source": [
    "def get_non_switch_nodes(graph):\n",
    "    return (node for node in graph.nodes() if switch_regex.match(node) is None)"
   ]
  },
  {
   "cell_type": "code",
   "execution_count": 24,
   "metadata": {
    "collapsed": true
   },
   "outputs": [],
   "source": [
    "def get_switches_only(graph):\n",
    "    \"\"\"Returns copy of graph removing all nodes except switches\"\"\"\n",
    "    copy = graph.copy()\n",
    "    copy.remove_nodes_from(get_non_switch_nodes(graph))\n",
    "    return copy"
   ]
  },
  {
   "cell_type": "code",
   "execution_count": 25,
   "metadata": {
    "collapsed": true
   },
   "outputs": [],
   "source": [
    "def print_graph_properties(graph, graph_name):\n",
    "    print(\"Graph '{0}' has {1} nodes and {2} edges\".format(graph_name, len(graph), len(graph.edges())))"
   ]
  },
  {
   "cell_type": "code",
   "execution_count": 26,
   "metadata": {
    "collapsed": true
   },
   "outputs": [],
   "source": [
    "def return_list(function):\n",
    "    @wraps(function)\n",
    "    def decorated(*args, **kwargs):\n",
    "        return list(function(*args, **kwargs))\n",
    "    return decorated"
   ]
  },
  {
   "cell_type": "code",
   "execution_count": 27,
   "metadata": {
    "collapsed": true
   },
   "outputs": [],
   "source": [
    "def itake_n(sequence, count):\n",
    "    return islice(sequence, 0, count)"
   ]
  },
  {
   "cell_type": "code",
   "execution_count": 28,
   "metadata": {
    "collapsed": true
   },
   "outputs": [],
   "source": [
    "take_n = return_list(itake_n)"
   ]
  },
  {
   "cell_type": "code",
   "execution_count": 39,
   "metadata": {
    "collapsed": true
   },
   "outputs": [],
   "source": [
    "def check_ugly_paths_correct_len(num_nodes, ugly_paths):\n",
    "    assert len(ugly_paths) == num_nodes\n",
    "    assert all(len(list_of_nodes) == num_nodes for list_of_nodes in ugly_paths.values())"
   ]
  },
  {
   "cell_type": "code",
   "execution_count": 57,
   "metadata": {
    "collapsed": true
   },
   "outputs": [],
   "source": [
    "def get_edge_properties(graph, node1, node2):\n",
    "    return graph[node1][node2]['properties']"
   ]
  },
  {
   "cell_type": "code",
   "execution_count": 59,
   "metadata": {
    "collapsed": true
   },
   "outputs": [],
   "source": [
    "def get_node_properties(graph, node):\n",
    "    return graph.node[node]['properties']"
   ]
  },
  {
   "cell_type": "code",
   "execution_count": 41,
   "metadata": {
    "collapsed": true
   },
   "outputs": [],
   "source": [
    "def nice_shortest_paths(graph):\n",
    "    ugly_paths = all_pairs_shortest_path(graph)\n",
    "    check_ugly_paths_correct_len(len(graph), ugly_paths)"
   ]
  },
  {
   "cell_type": "code",
   "execution_count": 30,
   "metadata": {
    "collapsed": false,
    "scrolled": true
   },
   "outputs": [],
   "source": [
    "warnings.simplefilter('ignore')\n",
    "graph = create_lom2_graph(EXCEL_FILENAME)"
   ]
  },
  {
   "cell_type": "code",
   "execution_count": 31,
   "metadata": {
    "collapsed": false
   },
   "outputs": [
    {
     "name": "stdout",
     "output_type": "stream",
     "text": [
      "Graph 'Full' has 1728 nodes and 3072 edges\n"
     ]
    }
   ],
   "source": [
    "print_graph_properties(graph, 'Full')"
   ]
  },
  {
   "cell_type": "code",
   "execution_count": 32,
   "metadata": {
    "collapsed": false
   },
   "outputs": [],
   "source": [
    "switches_only = get_switches_only(graph)"
   ]
  },
  {
   "cell_type": "code",
   "execution_count": 33,
   "metadata": {
    "collapsed": false
   },
   "outputs": [
    {
     "name": "stdout",
     "output_type": "stream",
     "text": [
      "Graph 'Switches Only' has 192 nodes and 1536 edges\n"
     ]
    }
   ],
   "source": [
    "print_graph_properties(switches_only, 'Switches Only')"
   ]
  },
  {
   "cell_type": "code",
   "execution_count": 42,
   "metadata": {
    "collapsed": false
   },
   "outputs": [],
   "source": [
    "nice_shortest_paths(graph)"
   ]
  },
  {
   "cell_type": "code",
   "execution_count": 44,
   "metadata": {
    "collapsed": false
   },
   "outputs": [],
   "source": [
    "ugly_paths = all_pairs_shortest_path(switches_only)"
   ]
  },
  {
   "cell_type": "code",
   "execution_count": 45,
   "metadata": {
    "collapsed": false
   },
   "outputs": [
    {
     "data": {
      "text/plain": [
       "['КГК.50.5.2',\n",
       " 'КГК.51.4.2',\n",
       " 'КГК.53.2.4',\n",
       " 'КГК.53.0.2',\n",
       " 'КГК.50.7.4',\n",
       " 'КГК.53.2.3',\n",
       " 'КГК.53.3.3',\n",
       " 'КГК.51.4.1',\n",
       " 'КГК.49.1.3',\n",
       " 'КГК.48.6.3']"
      ]
     },
     "execution_count": 45,
     "metadata": {},
     "output_type": "execute_result"
    }
   ],
   "source": [
    "take_n(ugly_paths, 10)"
   ]
  },
  {
   "cell_type": "code",
   "execution_count": 46,
   "metadata": {
    "collapsed": false
   },
   "outputs": [
    {
     "data": {
      "text/plain": [
       "['КГК.50.5.2',\n",
       " 'КГК.51.4.2',\n",
       " 'КГК.53.2.4',\n",
       " 'КГК.53.0.2',\n",
       " 'КГК.50.7.4',\n",
       " 'КГК.53.2.3',\n",
       " 'КГК.53.3.3',\n",
       " 'КГК.51.4.1',\n",
       " 'КГК.49.1.3',\n",
       " 'КГК.48.6.3']"
      ]
     },
     "execution_count": 46,
     "metadata": {},
     "output_type": "execute_result"
    }
   ],
   "source": [
    "take_n(ugly_paths['КГК.51.4.1'], 10)"
   ]
  },
  {
   "cell_type": "code",
   "execution_count": 48,
   "metadata": {
    "collapsed": false
   },
   "outputs": [
    {
     "data": {
      "text/plain": [
       "['КГК.51.4.1', 'КГК.50.3.4', 'КГК.48.4.1', 'КГК.48.6.3']"
      ]
     },
     "execution_count": 48,
     "metadata": {},
     "output_type": "execute_result"
    }
   ],
   "source": [
    "ugly_paths['КГК.51.4.1']['КГК.48.6.3']"
   ]
  },
  {
   "cell_type": "code",
   "execution_count": 58,
   "metadata": {
    "collapsed": false
   },
   "outputs": [
    {
     "data": {
      "text/plain": [
       "EdgeProperties(material='optic')"
      ]
     },
     "execution_count": 58,
     "metadata": {},
     "output_type": "execute_result"
    }
   ],
   "source": [
    "get_edge_properties(graph,'КГК.51.4.1', 'КГК.50.3.4')"
   ]
  },
  {
   "cell_type": "code",
   "execution_count": 56,
   "metadata": {
    "collapsed": false
   },
   "outputs": [
    {
     "data": {
      "text/plain": [
       "{'properties': SwitchProperties(model='SwitchX FDR SX6025', ports_taken=8)}"
      ]
     },
     "execution_count": 56,
     "metadata": {},
     "output_type": "execute_result"
    }
   ],
   "source": [
    "graph.node['КГК.51.4.1']"
   ]
  },
  {
   "cell_type": "code",
   "execution_count": 60,
   "metadata": {
    "collapsed": false
   },
   "outputs": [
    {
     "data": {
      "text/plain": [
       "SwitchProperties(model='SwitchX FDR SX6025', ports_taken=8)"
      ]
     },
     "execution_count": 60,
     "metadata": {},
     "output_type": "execute_result"
    }
   ],
   "source": [
    "get_node_properties(graph, 'КГК.51.4.1')"
   ]
  }
 ],
 "metadata": {
  "kernelspec": {
   "display_name": "Python 3",
   "language": "python",
   "name": "python3"
  },
  "language_info": {
   "codemirror_mode": {
    "name": "ipython",
    "version": 3
   },
   "file_extension": ".py",
   "mimetype": "text/x-python",
   "name": "python",
   "nbconvert_exporter": "python",
   "pygments_lexer": "ipython3",
   "version": "3.4.3+"
  }
 },
 "nbformat": 4,
 "nbformat_minor": 0
}

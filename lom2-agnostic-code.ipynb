{
 "cells": [
  {
   "cell_type": "code",
   "execution_count": 1,
   "metadata": {
    "collapsed": true
   },
   "outputs": [],
   "source": [
    "import pandas as pd\n",
    "import networkx as nx  # pip install --user networkx"
   ]
  },
  {
   "cell_type": "markdown",
   "metadata": {},
   "source": [
    "## Load data"
   ]
  },
  {
   "cell_type": "code",
   "execution_count": 2,
   "metadata": {},
   "outputs": [],
   "source": [
    "nodes = pd.read_pickle(\"cachenodes.pkl\")\n",
    "edges = pd.read_pickle(\"edges.pkl\")\n",
    "comp_nodes = pd.read_pickle(\"comp_nodes.pkl\")"
   ]
  },
  {
   "cell_type": "markdown",
   "metadata": {},
   "source": [
    "## Build topology"
   ]
  },
  {
   "cell_type": "code",
   "execution_count": 3,
   "metadata": {
    "collapsed": true
   },
   "outputs": [],
   "source": [
    "def build_topology(nodes, edges):\n",
    "    topology = nx.Graph()\n",
    "    \n",
    "    # add all nodes\n",
    "    for index, row in nodes.iterrows():\n",
    "        node_name = row[\"name\"]\n",
    "        node_attributes = row.drop([\"name\"]).to_dict()\n",
    "        topology.add_node(node_name, attr_dict=node_attributes)\n",
    "    \n",
    "    # add all edges\n",
    "    for index, row in edges.iterrows():\n",
    "        node1_name = row[\"node1\"]\n",
    "        node2_name = row[\"node2\"]\n",
    "        edge_attributes = row.drop([\"node1\", \"node2\"]).to_dict()\n",
    "        topology.add_edge(node1_name, node2_name, attr_dict=edge_attributes)\n",
    "    \n",
    "    return topology"
   ]
  },
  {
   "cell_type": "code",
   "execution_count": 4,
   "metadata": {
    "collapsed": true
   },
   "outputs": [],
   "source": [
    "topology = build_topology(nodes, edges)"
   ]
  },
  {
   "cell_type": "markdown",
   "metadata": {},
   "source": [
    "## Calculate shortest path for every pair of computational nodes"
   ]
  },
  {
   "cell_type": "markdown",
   "metadata": {},
   "source": [
    "### Helper function for caching of results\n",
    "\n",
    "It allows the program to save calculated tables or other objects\n",
    "or load them from disk if they are already there"
   ]
  },
  {
   "cell_type": "code",
   "execution_count": 9,
   "metadata": {
    "collapsed": true
   },
   "outputs": [],
   "source": [
    "from libcrap.core import calcsave_or_load\n",
    "from functools import partial"
   ]
  },
  {
   "cell_type": "code",
   "execution_count": 10,
   "metadata": {},
   "outputs": [],
   "source": [
    "pd_diskcache = partial(calcsave_or_load, load_func=pd.read_pickle, save_func=pd.to_pickle)"
   ]
  },
  {
   "cell_type": "markdown",
   "metadata": {},
   "source": [
    "### Actually do the work"
   ]
  },
  {
   "cell_type": "code",
   "execution_count": 12,
   "metadata": {
    "collapsed": true
   },
   "outputs": [],
   "source": [
    "import itertools"
   ]
  },
  {
   "cell_type": "code",
   "execution_count": 13,
   "metadata": {
    "collapsed": true
   },
   "outputs": [],
   "source": [
    "@pd_diskcache(\"paths.pkl\")\n",
    "def find_comp_to_comp_shortest_paths(topology, comp_nodes):\n",
    "    paths_ugly = nx.all_pairs_shortest_path(topology)\n",
    "    # calculates shortest paths and stores them in a dict of dicts\n",
    "    \n",
    "    # build a table with all computational node pairs\n",
    "    # they are not duplicated\n",
    "    # if there is (\"n48001\", \"n49419\") then there is no (\"n49419\", \"n48001\") pair\n",
    "    comp_node_pairs = pd.DataFrame.from_records(\n",
    "        itertools.chain.from_iterable(\n",
    "            [(node1, node2) for node2 in comp_nodes.iloc[index+1:]]\n",
    "            for (index, node1) in comp_nodes.iteritems()\n",
    "        ),\n",
    "        columns=[\"node1\", \"node2\"]\n",
    "    )\n",
    "\n",
    "    # write shortest paths to this table\n",
    "    comp_node_pairs[\"shortest_path\"] = comp_node_pairs.apply(\n",
    "        lambda row: paths_ugly[row.loc[\"node1\"]][row.loc[\"node2\"]],\n",
    "        axis=1\n",
    "    )\n",
    "    return comp_node_pairs"
   ]
  },
  {
   "cell_type": "code",
   "execution_count": 14,
   "metadata": {
    "collapsed": true
   },
   "outputs": [],
   "source": [
    "# shortest paths between all computational nodes\n",
    "paths = find_comp_to_comp_shortest_paths(topology, comp_nodes)"
   ]
  },
  {
   "cell_type": "markdown",
   "metadata": {},
   "source": [
    "## Calculate feature lists of these paths"
   ]
  },
  {
   "cell_type": "markdown",
   "metadata": {},
   "source": [
    "### Helper functions"
   ]
  },
  {
   "cell_type": "code",
   "execution_count": 18,
   "metadata": {},
   "outputs": [
    {
     "data": {
      "text/plain": [
       "dict_items([('type_', 'switch')])"
      ]
     },
     "execution_count": 18,
     "metadata": {},
     "output_type": "execute_result"
    }
   ],
   "source": [
    "topology.node[\"КГК.48.0.3\"].items()"
   ]
  },
  {
   "cell_type": "code",
   "execution_count": 20,
   "metadata": {},
   "outputs": [
    {
     "data": {
      "text/plain": [
       "(('a', 1), ('b', 'lol'))"
      ]
     },
     "execution_count": 20,
     "metadata": {},
     "output_type": "execute_result"
    }
   ],
   "source": [
    "footopology = nx.Graph()\n",
    "footopology.add_node(\"kek\", attr_dict={\"a\": 1, \"b\": \"lol\"})\n",
    "tuple(footopology.node[\"kek\"].items())"
   ]
  },
  {
   "cell_type": "code",
   "execution_count": 21,
   "metadata": {
    "collapsed": true
   },
   "outputs": [],
   "source": [
    "def get_node_properties(topology, node):\n",
    "    \"\"\"Returns node properties as a tuple of tuples.\n",
    "    \n",
    "    >>> some_topology = nx.Graph()\n",
    "    >>> some_topology.add_node(\"kek\", attr_dict={\"a\": 1, \"b\": \"lol\"})\n",
    "    >>> get_node_properties(some_topology, \"kek\")\n",
    "    (('a', 1), ('b', 'lol'))\n",
    "    \"\"\"\n",
    "    return tuple(topology.node[node].items())"
   ]
  },
  {
   "cell_type": "markdown",
   "metadata": {},
   "source": [
    "### Test helper functions"
   ]
  },
  {
   "cell_type": "code",
   "execution_count": 24,
   "metadata": {
    "collapsed": true
   },
   "outputs": [],
   "source": [
    "import doctest"
   ]
  },
  {
   "cell_type": "code",
   "execution_count": 27,
   "metadata": {
    "collapsed": true
   },
   "outputs": [],
   "source": [
    "def test_get_node_properties():\n",
    "    doctest.run_docstring_examples(get_node_properties, globals())\n",
    "    assert get_node_properties(topology, \"КГК.48.0.3\") == ((\"type_\", \"switch\"),)"
   ]
  },
  {
   "cell_type": "code",
   "execution_count": 28,
   "metadata": {
    "scrolled": true
   },
   "outputs": [],
   "source": [
    "test_get_node_properties()"
   ]
  }
 ],
 "metadata": {
  "kernelspec": {
   "display_name": "Python 3",
   "language": "python",
   "name": "python3"
  },
  "language_info": {
   "codemirror_mode": {
    "name": "ipython",
    "version": 3
   },
   "file_extension": ".py",
   "mimetype": "text/x-python",
   "name": "python",
   "nbconvert_exporter": "python",
   "pygments_lexer": "ipython3",
   "version": "3.6.0"
  }
 },
 "nbformat": 4,
 "nbformat_minor": 2
}

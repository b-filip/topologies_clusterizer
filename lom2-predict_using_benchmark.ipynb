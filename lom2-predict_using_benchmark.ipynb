{
 "cells": [
  {
   "cell_type": "code",
   "execution_count": 108,
   "metadata": {},
   "outputs": [],
   "source": [
    "import pandas as pd\n",
    "import path  # pip install --user path.py\n",
    "import re\n",
    "from IPython.display import display"
   ]
  },
  {
   "cell_type": "code",
   "execution_count": 106,
   "metadata": {
    "collapsed": true
   },
   "outputs": [],
   "source": [
    "# load seaborn\n",
    "import seaborn  # pip install --user seaborn\n",
    "%matplotlib inline"
   ]
  },
  {
   "cell_type": "code",
   "execution_count": 2,
   "metadata": {
    "collapsed": true
   },
   "outputs": [],
   "source": [
    "classes = pd.read_pickle(\"classes.pkl\")\n",
    "node_pairs = pd.read_pickle(\"paths_with_classes.pkl\").drop(\"shortest_path\", axis=1)"
   ]
  },
  {
   "cell_type": "code",
   "execution_count": 3,
   "metadata": {
    "scrolled": true
   },
   "outputs": [
    {
     "data": {
      "text/plain": [
       "3    501760\n",
       "2    301056\n",
       "4    172032\n",
       "5    100352\n",
       "1     86016\n",
       "6     12288\n",
       "0      5376\n",
       "Name: class_, dtype: int64"
      ]
     },
     "execution_count": 3,
     "metadata": {},
     "output_type": "execute_result"
    }
   ],
   "source": [
    "node_pairs[\"class_\"].value_counts()"
   ]
  },
  {
   "cell_type": "code",
   "execution_count": 4,
   "metadata": {
    "collapsed": true
   },
   "outputs": [],
   "source": [
    "TEST_RESULT_DIRECTORIES = [\n",
    "    path.Path(path_) for path_ in (\n",
    "        \"/home/shibbiry/Dropbox/documents/msu/bachelors_thesis_cluster_topology/test_results/2017-02-12__118_nodes\",\n",
    "        \"/home/shibbiry/Dropbox/documents/msu/bachelors_thesis_cluster_topology/test_results/2017-02-10__110_nodes\",\n",
    "        \"/home/shibbiry/Dropbox/documents/msu/bachelors_thesis_cluster_topology/test_results/2016-11-04-lom2_100_nodes\"\n",
    "    )\n",
    "]"
   ]
  },
  {
   "cell_type": "code",
   "execution_count": 5,
   "metadata": {
    "collapsed": true
   },
   "outputs": [],
   "source": [
    "def read_benchmark_hostnames(path_to_file):\n",
    "    lines = path_to_file.lines()\n",
    "    return (re.match(r\"^(n\\d{5})\\.\", line).groups()[0] for line in lines)"
   ]
  },
  {
   "cell_type": "code",
   "execution_count": 6,
   "metadata": {},
   "outputs": [
    {
     "data": {
      "text/plain": [
       "'7/7'"
      ]
     },
     "metadata": {},
     "output_type": "display_data"
    },
    {
     "data": {
      "text/plain": [
       "'7/7'"
      ]
     },
     "metadata": {},
     "output_type": "display_data"
    },
    {
     "data": {
      "text/plain": [
       "'7/7'"
      ]
     },
     "metadata": {},
     "output_type": "display_data"
    }
   ],
   "source": [
    "for directory in TEST_RESULT_DIRECTORIES:\n",
    "    hostnames = frozenset(read_benchmark_hostnames(directory.joinpath(\"network_hosts.txt\")))\n",
    "    \n",
    "    pairs_tested = node_pairs[\n",
    "        node_pairs[\"node1\"].isin(hostnames) &\n",
    "        node_pairs[\"node2\"].isin(hostnames)\n",
    "    ]\n",
    "    \n",
    "    display(\"{0}/{1}\".format(len(pairs_tested[\"class_\"].unique()), len(classes)))"
   ]
  },
  {
   "cell_type": "markdown",
   "metadata": {},
   "source": [
    "## Load and parse netcdf"
   ]
  },
  {
   "cell_type": "code",
   "execution_count": 7,
   "metadata": {
    "collapsed": true
   },
   "outputs": [],
   "source": [
    "import netCDF4"
   ]
  },
  {
   "cell_type": "code",
   "execution_count": 28,
   "metadata": {},
   "outputs": [],
   "source": [
    "foo = netCDF4.Dataset(TEST_RESULT_DIRECTORIES[0].joinpath(\"network_median.nc\"), \"r\")"
   ]
  },
  {
   "cell_type": "code",
   "execution_count": 63,
   "metadata": {},
   "outputs": [
    {
     "name": "stdout",
     "output_type": "stream",
     "text": [
      "proc_num = 118\n",
      "test_type = 1\n",
      "data_type = 2\n",
      "begin_mes_length = 0\n",
      "end_mes_length = 10000\n",
      "step_length = 100\n",
      "noise_mes_length = 0\n",
      "num_noise_mes = 1\n",
      "num_noise_proc = 0\n",
      "num_repeates = 100\n"
     ]
    }
   ],
   "source": [
    "for var in foo.variables:\n",
    "    if len(foo[var].dimensions) == 0:\n",
    "        print(\"{0} = {1}\".format(var, foo[var][0]))"
   ]
  },
  {
   "cell_type": "code",
   "execution_count": 99,
   "metadata": {},
   "outputs": [],
   "source": [
    "def import_data(directory):\n",
    "    hostnames = tuple(read_benchmark_hostnames(directory.joinpath(\"network_hosts.txt\")))\n",
    "    with netCDF4.Dataset(directory.joinpath(\"network_median.nc\"), \"r\")  as dataset:\n",
    "        proc_num = dataset[\"proc_num\"][0]\n",
    "        assert dataset[\"test_type\"][0] == 1\n",
    "        assert dataset[\"begin_mes_length\"][0] == 0\n",
    "        assert dataset[\"end_mes_length\"][0] == 10000\n",
    "        assert dataset[\"step_length\"][0] == 100\n",
    "        data_len_0 = pd.DataFrame(foo[\"data\"][0], index=hostnames, columns=hostnames)\n",
    "    return data_len_0"
   ]
  },
  {
   "cell_type": "code",
   "execution_count": 100,
   "metadata": {},
   "outputs": [],
   "source": [
    "data = import_data(TEST_RESULT_DIRECTORIES[0])"
   ]
  },
  {
   "cell_type": "code",
   "execution_count": 102,
   "metadata": {},
   "outputs": [
    {
     "data": {
      "text/plain": [
       "<matplotlib.axes._subplots.AxesSubplot at 0x7f5e3411c240>"
      ]
     },
     "execution_count": 102,
     "metadata": {},
     "output_type": "execute_result"
    },
    {
     "data": {
      "image/png": "[encoded data removed]",
      "text/plain": [
       "<matplotlib.figure.Figure at 0x7f5e3411c780>"
      ]
     },
     "metadata": {},
     "output_type": "display_data"
    }
   ],
   "source": [
    "seaborn.heatmap(data)"
   ]
  },
  {
   "cell_type": "code",
   "execution_count": 73,
   "metadata": {
    "collapsed": true
   },
   "outputs": [],
   "source": [
    "# todo\n",
    "# написать рисовалку хитмап одного слоя data\n",
    "# и каких-нибудь там 3д отображений одного слоя data с погрешностью\n",
    "# написать предсказывалку, берущую медиану из соотв. класса\n",
    "# посчитать какую-нибудь метрику для этой предсказывалки"
   ]
  }
 ],
 "metadata": {
  "kernelspec": {
   "display_name": "Python 3",
   "language": "python",
   "name": "python3"
  },
  "language_info": {
   "codemirror_mode": {
    "name": "ipython",
    "version": 3
   },
   "file_extension": ".py",
   "mimetype": "text/x-python",
   "name": "python",
   "nbconvert_exporter": "python",
   "pygments_lexer": "ipython3",
   "version": "3.6.1"
  }
 },
 "nbformat": 4,
 "nbformat_minor": 2
}

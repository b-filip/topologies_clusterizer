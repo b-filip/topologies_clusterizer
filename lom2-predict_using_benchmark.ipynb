{
 "cells": [
  {
   "cell_type": "code",
   "execution_count": 9,
   "metadata": {
    "collapsed": true
   },
   "outputs": [],
   "source": [
    "import pandas as pd\n",
    "import path  # pip install --user path.py\n",
    "import re\n",
    "from IPython.display import display"
   ]
  },
  {
   "cell_type": "code",
   "execution_count": 2,
   "metadata": {},
   "outputs": [],
   "source": [
    "classes = pd.read_pickle(\"classes.pkl\")\n",
    "node_pairs = pd.read_pickle(\"paths_with_classes.pkl\").drop(\"shortest_path\", axis=1)"
   ]
  },
  {
   "cell_type": "code",
   "execution_count": 3,
   "metadata": {
    "scrolled": true
   },
   "outputs": [
    {
     "data": {
      "text/plain": [
       "3    501760\n",
       "2    301056\n",
       "4    172032\n",
       "5    100352\n",
       "1     86016\n",
       "6     12288\n",
       "0      5376\n",
       "Name: class_, dtype: int64"
      ]
     },
     "execution_count": 3,
     "metadata": {},
     "output_type": "execute_result"
    }
   ],
   "source": [
    "node_pairs[\"class_\"].value_counts()"
   ]
  },
  {
   "cell_type": "code",
   "execution_count": 22,
   "metadata": {
    "collapsed": true
   },
   "outputs": [],
   "source": [
    "TEST_RESULT_DIRECTORIES = [\n",
    "    path.Path(path_) for path_ in (\n",
    "        \"/home/shibbiry/Dropbox/documents/msu/bachelors_thesis_cluster_topology/test_results/2017-02-12__118_nodes\",\n",
    "        \"/home/shibbiry/Dropbox/documents/msu/bachelors_thesis_cluster_topology/test_results/2017-02-10__110_nodes\",\n",
    "        \"/home/shibbiry/Dropbox/documents/msu/bachelors_thesis_cluster_topology/test_results/2016-11-04-lom2_100_nodes\"\n",
    "    )\n",
    "]"
   ]
  },
  {
   "cell_type": "code",
   "execution_count": 5,
   "metadata": {
    "collapsed": true
   },
   "outputs": [],
   "source": [
    "def read_benchmark_hostnames(path_to_file):\n",
    "    lines = path_to_file.lines()\n",
    "    return (re.match(r\"^(n\\d{5})\\.\", line).groups()[0] for line in lines)"
   ]
  },
  {
   "cell_type": "code",
   "execution_count": 12,
   "metadata": {},
   "outputs": [
    {
     "data": {
      "text/plain": [
       "'7/7'"
      ]
     },
     "metadata": {},
     "output_type": "display_data"
    },
    {
     "data": {
      "text/plain": [
       "'7/7'"
      ]
     },
     "metadata": {},
     "output_type": "display_data"
    },
    {
     "data": {
      "text/plain": [
       "'7/7'"
      ]
     },
     "metadata": {},
     "output_type": "display_data"
    }
   ],
   "source": [
    "for directory in TEST_RESULT_DIRECTORIES:\n",
    "    hostnames = frozenset(read_benchmark_hostnames(directory.joinpath(\"network_hosts.txt\")))\n",
    "    \n",
    "    pairs_tested = node_pairs[\n",
    "        node_pairs[\"node1\"].isin(hostnames) &\n",
    "        node_pairs[\"node2\"].isin(hostnames)\n",
    "    ]\n",
    "    \n",
    "    display(\"{0}/{1}\".format(len(pairs_tested[\"class_\"].unique()), len(classes)))"
   ]
  },
  {
   "cell_type": "markdown",
   "metadata": {},
   "source": [
    "## Load and parse netcdf"
   ]
  },
  {
   "cell_type": "code",
   "execution_count": 15,
   "metadata": {
    "collapsed": true
   },
   "outputs": [],
   "source": [
    "import netCDF4"
   ]
  },
  {
   "cell_type": "code",
   "execution_count": 24,
   "metadata": {
    "collapsed": true
   },
   "outputs": [],
   "source": [
    "bar = TEST_RESULT_DIRECTORIES[0].joinpath(\"network_median.nc\")"
   ]
  },
  {
   "cell_type": "code",
   "execution_count": 35,
   "metadata": {
    "collapsed": true
   },
   "outputs": [],
   "source": [
    "foo = netCDF4.Dataset(TEST_RESULT_DIRECTORIES[0].joinpath(\"network_median.nc\"), \"r\")"
   ]
  },
  {
   "cell_type": "code",
   "execution_count": 36,
   "metadata": {},
   "outputs": [
    {
     "data": {
      "text/plain": [
       "<class 'netCDF4._netCDF4.Dataset'>\n",
       "root group (NETCDF3_64BIT_OFFSET data model, file format NETCDF3):\n",
       "    dimensions(sizes): x(118), y(118), n(100), strings(101)\n",
       "    variables(dimensions): int32 \u001b[4mproc_num\u001b[0m(), int32 \u001b[4mtest_type\u001b[0m(), int32 \u001b[4mdata_type\u001b[0m(), int32 \u001b[4mbegin_mes_length\u001b[0m(), int32 \u001b[4mend_mes_length\u001b[0m(), int32 \u001b[4mstep_length\u001b[0m(), int32 \u001b[4mnoise_mes_length\u001b[0m(), int32 \u001b[4mnum_noise_mes\u001b[0m(), int32 \u001b[4mnum_noise_proc\u001b[0m(), int32 \u001b[4mnum_repeates\u001b[0m(), float64 \u001b[4mdata\u001b[0m(n,x,y)\n",
       "    groups: "
      ]
     },
     "execution_count": 36,
     "metadata": {},
     "output_type": "execute_result"
    }
   ],
   "source": [
    "foo"
   ]
  }
 ],
 "metadata": {
  "kernelspec": {
   "display_name": "Python 3",
   "language": "python",
   "name": "python3"
  },
  "language_info": {
   "codemirror_mode": {
    "name": "ipython",
    "version": 3
   },
   "file_extension": ".py",
   "mimetype": "text/x-python",
   "name": "python",
   "nbconvert_exporter": "python",
   "pygments_lexer": "ipython3",
   "version": "3.6.0"
  }
 },
 "nbformat": 4,
 "nbformat_minor": 2
}
